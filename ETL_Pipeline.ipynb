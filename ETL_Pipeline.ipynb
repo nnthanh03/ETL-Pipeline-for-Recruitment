{
 "cells": [
  {
   "cell_type": "markdown",
   "metadata": {},
   "source": [
    "# Start"
   ]
  },
  {
   "cell_type": "code",
   "execution_count": 1,
   "metadata": {},
   "outputs": [],
   "source": [
    "from pyspark.sql import SparkSession\n",
    "from pyspark.sql import functions as F\n"
   ]
  },
  {
   "cell_type": "code",
   "execution_count": 2,
   "metadata": {},
   "outputs": [],
   "source": [
    "CASSANDRA_HOST = \"etl_cassandra\"\n",
    "CASSANDRA_KEYSPACE = \"de_project\"\n",
    "CASSANDRA_TABLE = \"tracking\"\n",
    "\n",
    "MYSQL_HOST = \"localhost\"\n",
    "MYSQL_DATABASE = \"Data_Warehouse\"\n",
    "# MYSQL_ROOT_PASSWORD = \"123456\"\n"
   ]
  },
  {
   "cell_type": "code",
   "execution_count": 3,
   "metadata": {},
   "outputs": [],
   "source": [
    "spark = SparkSession.builder.config('spark.jars.packages','com.datastax.spark:spark-cassandra-connector_2.12:3.1.0').getOrCreate()"
   ]
  },
  {
   "cell_type": "code",
   "execution_count": 4,
   "metadata": {},
   "outputs": [],
   "source": [
    "spark_df = spark.read.format(\"org.apache.spark.sql.cassandra\").options(table=CASSANDRA_TABLE,keyspace=CASSANDRA_KEYSPACE)\\\n",
    "    .load()"
   ]
  },
  {
   "cell_type": "code",
   "execution_count": 5,
   "metadata": {},
   "outputs": [
    {
     "name": "stdout",
     "output_type": "stream",
     "text": [
      "root\n",
      " |-- create_time: string (nullable = false)\n",
      " |-- bid: integer (nullable = true)\n",
      " |-- bn: string (nullable = true)\n",
      " |-- campaign_id: integer (nullable = true)\n",
      " |-- cd: integer (nullable = true)\n",
      " |-- custom_track: string (nullable = true)\n",
      " |-- de: string (nullable = true)\n",
      " |-- dl: string (nullable = true)\n",
      " |-- dt: string (nullable = true)\n",
      " |-- ed: string (nullable = true)\n",
      " |-- ev: integer (nullable = true)\n",
      " |-- group_id: integer (nullable = true)\n",
      " |-- id: integer (nullable = true)\n",
      " |-- job_id: integer (nullable = true)\n",
      " |-- md: string (nullable = true)\n",
      " |-- publisher_id: integer (nullable = true)\n",
      " |-- rl: string (nullable = true)\n",
      " |-- sr: string (nullable = true)\n",
      " |-- ts: timestamp (nullable = true)\n",
      " |-- tz: integer (nullable = true)\n",
      " |-- ua: string (nullable = true)\n",
      " |-- uid: string (nullable = true)\n",
      " |-- utm_campaign: string (nullable = true)\n",
      " |-- utm_content: string (nullable = true)\n",
      " |-- utm_medium: string (nullable = true)\n",
      " |-- utm_source: string (nullable = true)\n",
      " |-- utm_term: string (nullable = true)\n",
      " |-- v: string (nullable = true)\n",
      " |-- vp: string (nullable = true)\n",
      "\n"
     ]
    }
   ],
   "source": [
    "spark_df.printSchema()"
   ]
  },
  {
   "cell_type": "code",
   "execution_count": 6,
   "metadata": {},
   "outputs": [
    {
     "name": "stdout",
     "output_type": "stream",
     "text": [
      "+--------------------+----+----------+-----------+----+------------+-----+--------------------+---------------+--------------------+----+--------+----+------+----+------------+--------------------+---------+--------------------+----+--------------------+-------------------+------------+-----------+----------+----------+--------+----+--------+\n",
      "|         create_time| bid|        bn|campaign_id|  cd|custom_track|   de|                  dl|             dt|                  ed|  ev|group_id|  id|job_id|  md|publisher_id|                  rl|       sr|                  ts|  tz|                  ua|                uid|utm_campaign|utm_content|utm_medium|utm_source|utm_term|   v|      vp|\n",
      "+--------------------+----+----------+-----------+----+------------+-----+--------------------+---------------+--------------------+----+--------+----+------+----+------------+--------------------+---------+--------------------+----+--------------------+-------------------+------------+-----------+----------+----------+--------+----+--------+\n",
      "|cb864f90-07dc-11e...|NULL|Chrome 103|       NULL|  24|        NULL|UTF-8|http://localhost:...|CandidatePortal|                NULL|   1|    NULL|NULL|  NULL|true|        NULL|http://localhost:...| 1536x864|2022-07-20 10:34:...|-420|Mozilla/5.0 (Wind...|1-go8olnux-l4pv9epe|        NULL|       NULL|      NULL|      NULL|    NULL| 1.0|1536x722|\n",
      "|05ea0ae0-02d4-11e...|NULL|Chrome 103|       NULL|  24|       alive|UTF-8|http://129.213.68...|CandidatePortal|{\"customEvent\":\"a...|   2|    NULL|NULL|  NULL|true|        NULL|                NULL|1920x1080|2022-07-14 00:48:...| 240|Mozilla/5.0 (Wind...|1-eb7odtp7-l4o6dg83|        NULL|       NULL|      NULL|      NULL|    NULL| 1.0|1068x912|\n",
      "|37e1d570-0b5b-11e...|NULL|Chrome 103|       NULL|  24|       alive|UTF-8|http://fe.dev.got...|CandidatePortal|{\"customEvent\":\"a...|   2|    NULL|NULL|  NULL|true|        NULL|                NULL| 1366x768|2022-07-24 21:16:...|-420|Mozilla/5.0 (Wind...|1-zof0i457-l5ze6uuv|        NULL|       NULL|      NULL|      NULL|    NULL| 1.0|1366x625|\n",
      "|3ea9b6e0-0802-11e...|NULL|Chrome 103|       NULL|  24|        NULL|UTF-8|http://150.136.2....|CandidatePortal|                NULL|   1|    NULL|NULL|  NULL|true|        NULL|                NULL| 1366x768|2022-07-20 15:02:...|-420|Mozilla/5.0 (Wind...|1-m8tpkuds-l4oxward|        NULL|       NULL|      NULL|      NULL|    NULL| 1.0|1366x625|\n",
      "|28f15b40-0a24-11e...|NULL|Chrome 103|       NULL|  24|       alive|UTF-8|http://fe.dev.got...|CandidatePortal|{\"customEvent\":\"a...|   2|    NULL|NULL|  NULL|true|        NULL|                NULL| 1366x768|2022-07-23 08:09:...|-420|Mozilla/5.0 (Wind...|1-kzl1xlpt-l5x71cv8|        NULL|       NULL|      NULL|      NULL|    NULL| 1.0|1366x768|\n",
      "|200f5b00-0c8e-11e...|NULL|Chrome 103|       NULL|  24|       alive|UTF-8|http://fe.dev.got...|CandidatePortal|{\"customEvent\":\"a...|   2|    NULL|NULL|  NULL|true|        NULL|                NULL| 1366x768|2022-07-26 09:53:...|-420|Mozilla/5.0 (Wind...|1-t8bqaiy4-l61kszmf|        NULL|       NULL|      NULL|      NULL|    NULL| 1.0|1366x625|\n",
      "|2d91f130-0cb0-11e...|   0|Chrome 103|        222|  24|       click|UTF-8|http://fe.dev.got...|CandidatePortal|{\"customEvent\":\"c...|   2|    NULL|NULL|  1527|true|           1|                NULL| 1366x768|2022-07-26 13:57:...|-420|Mozilla/5.0 (Wind...|1-kntupfok-l61tduvk|        NULL|       NULL|      NULL|      NULL|    NULL| 1.0|1366x625|\n",
      "|bf5f6b90-0b59-11e...|NULL|Chrome 103|       NULL|  24|       alive|UTF-8|http://fe.dev.got...|CandidatePortal|{\"customEvent\":\"a...|   2|    NULL|NULL|  NULL|true|        NULL|                NULL| 1366x768|2022-07-24 21:06:...|-420|Mozilla/5.0 (Wind...|1-zof0i457-l5ze6uuv|        NULL|       NULL|      NULL|      NULL|    NULL| 1.0|1366x625|\n",
      "|d3d4b2b0-0730-11e...|NULL|Chrome 103|       NULL|  24|       click|UTF-8|http://150.230.18...|CandidatePortal|{\"customEvent\":\"c...|   2|    NULL|NULL|  NULL|true|        NULL|                NULL| 1536x864|2022-07-19 14:02:...|-420|Mozilla/5.0 (Wind...|1-p23ywm7j-l4wezf4t|        NULL|       NULL|      NULL|      NULL|    NULL| 1.0|1536x722|\n",
      "|13e29e88-9455-11e...|   0|      NULL|         12|NULL|   qualified| NULL|                NULL|           NULL|                NULL|NULL|      17|NULL|   671|NULL|          34|                NULL|     NULL| 2023-01-15 04:47:44|NULL|                NULL|               NULL|        NULL|       NULL|      NULL|      NULL|    NULL|NULL|    NULL|\n",
      "|fadba7c0-00ea-11e...|NULL|Chrome 103|       NULL|  24|       click|UTF-8|http://150.136.2....|CandidatePortal|{\"customEvent\":\"c...|   2|    NULL|NULL|  NULL|true|        NULL|                NULL| 1536x864|2022-07-11 14:27:...|-420|Mozilla/5.0 (Wind...|1-0d5ciljy-l4pdlaxd|        NULL|       NULL|      NULL|      NULL|    NULL| 1.0|1071x714|\n",
      "|a95b66c0-0350-11e...|NULL|Chrome 103|       NULL|  30|  conversion|UTF-8|http://129.213.68...|CandidatePortal|{\"customEvent\":\"c...|   2|    NULL|NULL|  NULL|true|        NULL|                NULL| 1440x900|2022-07-14 15:40:...|-420|Mozilla/5.0 (Maci...|1-nnh028os-l5koj561|        NULL|       NULL|      NULL|      NULL|    NULL| 1.0|1440x714|\n",
      "|5e25eeb0-02af-11e...|NULL|Chrome 103|       NULL|  24|  conversion|UTF-8|http://129.213.68...|CandidatePortal|{\"customEvent\":\"c...|   2|    NULL|NULL|  NULL|true|        NULL|                NULL|1920x1080|2022-07-13 20:26:...| 240|Mozilla/5.0 (Wind...|1-eb7odtp7-l4o6dg83|        NULL|       NULL|      NULL|      NULL|    NULL| 1.0|1920x961|\n",
      "|5e7ce2f0-09ef-11e...|NULL|Chrome 102|       NULL|  24|       click|UTF-8|http://localhost:...|CandidatePortal|{\"customEvent\":\"c...|   2|    NULL|NULL|  NULL|true|        NULL|http://localhost:...|1920x1080|2022-07-23 01:52:...|-420|Mozilla/5.0 (Maci...|1-ok78d38x-l5j7ka8p|        NULL|       NULL|      NULL|      NULL|    NULL| 1.0| 947x925|\n",
      "|6a173020-0c8d-11e...|   1|Chrome 103|         15|  24|       click|UTF-8|http://fe.dev.got...|CandidatePortal|{\"customEvent\":\"c...|   2|    NULL|NULL|   336|true|           1|                NULL| 1366x768|2022-07-26 09:48:...|-420|Mozilla/5.0 (Wind...|1-t8bqaiy4-l61kszmf|        NULL|       NULL|      NULL|      NULL|    NULL| 1.0|1366x625|\n",
      "|d282aeb0-098a-11e...|NULL|Chrome 103|       NULL|  30|        NULL|UTF-8|http://150.230.18...|CandidatePortal|                NULL|   1|    NULL|NULL|  NULL|true|        NULL|                NULL| 1440x900|2022-07-22 13:52:...|-420|Mozilla/5.0 (Maci...|1-x4kr0zhi-l4oz0ilv|        NULL|       NULL|      NULL|      NULL|    NULL| 1.0|1440x797|\n",
      "|c328a420-0bff-11e...|   0|Chrome 103|        222|  24|       click|UTF-8|http://fe.dev.got...|CandidatePortal|{\"customEvent\":\"c...|   2|    NULL|NULL|  1532|true|           1|                NULL| 1366x768|2022-07-25 16:54:...|-420|Mozilla/5.0 (Wind...|1-yh82s4al-l60jlqwa|        NULL|       NULL|      NULL|      NULL|    NULL| 1.0|1366x625|\n",
      "|0ebf8b00-fdd8-11e...|NULL|Chrome 102|       NULL|  24|        NULL|UTF-8|http://localhost:...|CandidatePortal|                NULL|   1|    NULL|NULL|  NULL|true|        NULL|                NULL|1920x1080|2022-07-07 16:34:...|-420|Mozilla/5.0 (Maci...|1-2e0m174r-l4nx6s72|        NULL|       NULL|      NULL|      html|    NULL| 1.0|1206x976|\n",
      "|4e50ffc0-01ab-11e...|NULL|Chrome 102|       NULL|  24|        NULL|UTF-8|http://localhost:...|CandidatePortal|                NULL|   1|    NULL|NULL|  NULL|true|        NULL|http://localhost:...|1920x1080|2022-07-12 13:24:...|-420|Mozilla/5.0 (Maci...|1-2e0m174r-l4nx6s72|        NULL|       NULL|      NULL|      html|    NULL| 1.0| 918x976|\n",
      "|796b4b60-fea0-11e...|   2|Chrome 103|          4|  24|        NULL|UTF-8|http://150.230.18...|CandidatePortal|                NULL|   1|    NULL|NULL|    98|true|           1|                NULL| 1366x768|2022-07-08 16:29:...|-420|Mozilla/5.0 (Wind...|1-c5v39kv8-l5c94dee|        NULL|       NULL|      NULL|      NULL|    NULL| 1.0|1366x625|\n",
      "+--------------------+----+----------+-----------+----+------------+-----+--------------------+---------------+--------------------+----+--------+----+------+----+------------+--------------------+---------+--------------------+----+--------------------+-------------------+------------+-----------+----------+----------+--------+----+--------+\n",
      "only showing top 20 rows\n",
      "\n"
     ]
    }
   ],
   "source": [
    "spark_df.show()"
   ]
  },
  {
   "cell_type": "code",
   "execution_count": null,
   "metadata": {},
   "outputs": [],
   "source": [
    "# from pyspark.sql import Row\n",
    "\n",
    "# columns = ('ts','job_id','custom_track','bid','campaign_id','group_id','publisher_id')\n",
    "# sampleDF = spark.createDataFrame(data, columns)\n",
    "# sampleDF.show()"
   ]
  },
  {
   "cell_type": "code",
   "execution_count": null,
   "metadata": {},
   "outputs": [],
   "source": [
    "data = spark_df.select('ts','job_id','custom_track','bid','campaign_id','group_id','publisher_id')\n"
   ]
  },
  {
   "cell_type": "code",
   "execution_count": 7,
   "metadata": {},
   "outputs": [],
   "source": [
    "# #create some fake data to insert to mysql\n",
    "# columns = [\"id\", \"event\"]\n",
    "# data = [(1, \"clicks\"), (2, \"clicks\"),\n",
    "#     (3, \"exit\"),(4, \"apply\")]\n",
    "# from pyspark.sql import Row\n",
    "# rows = [Row(id=x[0], event=x[1]) for x in data]\n",
    "# sampleDF = spark.createDataFrame(rows, columns)\n",
    "# sampleDF = spark.sparkContext.parallelize(data).toDF(columns)\n",
    "# sampleDF.show()"
   ]
  },
  {
   "cell_type": "markdown",
   "metadata": {},
   "source": [
    "## Select column"
   ]
  },
  {
   "cell_type": "code",
   "execution_count": 8,
   "metadata": {},
   "outputs": [
    {
     "name": "stdout",
     "output_type": "stream",
     "text": [
      "+--------------------+------+------------+---+-----------+--------+------------+\n",
      "|                  ts|job_id|custom_track|bid|campaign_id|group_id|publisher_id|\n",
      "+--------------------+------+------------+---+-----------+--------+------------+\n",
      "|2022-07-26 13:57:...|  1527|       click|  0|        222|    NULL|           1|\n",
      "| 2023-01-15 04:47:44|   671|   qualified|  0|         12|      17|          34|\n",
      "|2022-07-26 09:48:...|   336|       click|  1|         15|    NULL|           1|\n",
      "|2022-07-25 16:54:...|  1532|       click|  0|        222|    NULL|           1|\n",
      "|2022-07-25 17:02:...|  1527|       click|  0|        222|    NULL|           1|\n",
      "|2022-07-26 09:53:...|   273|       click|  0|         48|    NULL|           1|\n",
      "|2022-07-26 14:05:...|  1532|       click|  0|        222|    NULL|           1|\n",
      "|2022-07-08 16:43:...|    98|       click|  2|          4|    NULL|           1|\n",
      "|2022-07-26 10:02:...|  1533|       click|  0|        222|    NULL|           1|\n",
      "|2022-07-08 16:40:...|    98|       click|  2|          4|    NULL|           1|\n",
      "|2022-07-26 14:03:...|  1531|       click|  0|        222|    NULL|           1|\n",
      "|2022-07-26 13:56:...|   273|       click|  0|         48|    NULL|           1|\n",
      "|2022-07-25 17:00:...|  1529|       click|  0|        222|    NULL|           1|\n",
      "|2022-07-27 11:11:...|  1527|       click|  0|        222|    NULL|           1|\n",
      "| 2023-01-15 04:49:14|  1565|       click|  0|         61|      41|          38|\n",
      "|2022-07-24 21:07:...|   188|       click|  1|         48|      34|           1|\n",
      "|2022-07-26 10:07:...|   188|       click|  1|         48|      34|           1|\n",
      "|2022-07-26 13:45:...|   188|       click|  1|         48|      34|           1|\n",
      "|2022-07-24 21:05:...|   188|       click|  1|         48|      34|           1|\n",
      "|2022-07-26 09:56:...|  1529|       click|  0|        222|    NULL|           1|\n",
      "+--------------------+------+------------+---+-----------+--------+------------+\n",
      "only showing top 20 rows\n",
      "\n"
     ]
    }
   ],
   "source": [
    "data = spark_df.select('ts','job_id','custom_track','bid','campaign_id','group_id','publisher_id')\n",
    "data = data.filter((data.job_id.isNotNull()) & (data.custom_track.isNotNull()))\n",
    "data.show()"
   ]
  },
  {
   "cell_type": "markdown",
   "metadata": {},
   "source": [
    "# Pocessing"
   ]
  },
  {
   "cell_type": "markdown",
   "metadata": {},
   "source": [
    "## Click processing"
   ]
  },
  {
   "cell_type": "code",
   "execution_count": 9,
   "metadata": {},
   "outputs": [],
   "source": [
    "click_data = data.filter(data.custom_track == 'click')\n",
    "click_data = click_data.na.fill({'job_id':0})\n",
    "click_data = click_data.na.fill({'custom_track':0})\n",
    "click_data = click_data.na.fill({'bid':0})\n",
    "click_data = click_data.na.fill({'campaign_id':0})\n",
    "click_data = click_data.na.fill({'group_id':0})\n",
    "click_data = click_data.na.fill({'publisher_id':0})\n",
    "\n",
    "click_data.createTempView('clicktable')"
   ]
  },
  {
   "cell_type": "code",
   "execution_count": 10,
   "metadata": {},
   "outputs": [
    {
     "name": "stdout",
     "output_type": "stream",
     "text": [
      "+------+----------+-----+--------+-----------+------------+-------+------+----------+\n",
      "|job_id|     dates|hours|group_id|campaign_id|publisher_id|bid_set|clicks|spend_hour|\n",
      "+------+----------+-----+--------+-----------+------------+-------+------+----------+\n",
      "|  1533|2022-07-27|   11|       0|        222|           1|    0.0|    11|         0|\n",
      "|  1530|2022-07-25|   16|       0|        222|           1|    0.0|    11|         0|\n",
      "|  1531|2022-07-27|   11|       0|        222|           1|    0.0|    15|         0|\n",
      "|   187|2022-07-26|   13|      34|         48|           1|    1.0|    10|        10|\n",
      "|  1533|2022-07-26|   10|       0|        222|           1|    0.0|    11|         0|\n",
      "|   273|2022-07-26|    9|       0|         48|           1|    0.0|    13|         0|\n",
      "|  1532|2022-07-26|   10|       0|        222|           1|    0.0|     7|         0|\n",
      "|   187|2022-07-07|   10|       0|         48|           1|   0.33|     6|         2|\n",
      "|   188|2022-07-24|   17|      34|         48|           1|    1.0|    25|        25|\n",
      "|  1530|2022-07-27|   11|       0|        222|           1|    0.0|    10|         0|\n",
      "|  1849|2023-01-15|    4|      25|         48|          37|    1.0|     1|         1|\n",
      "|    98|2022-07-08|   16|       0|          4|           1|    2.0|   108|       216|\n",
      "|   188|2022-07-25|   16|      34|         48|           1|    1.0|    52|        52|\n",
      "|   258|2022-07-26|   13|       0|         93|           1|    1.0|    12|        12|\n",
      "|  1534|2022-07-26|   10|       0|        222|           1|    0.0|    16|         0|\n",
      "|    98|2022-07-26|    9|       0|          4|           1|    2.0|    14|        28|\n",
      "|  1144|2023-01-15|    4|      41|          5|          36|    0.0|     1|         0|\n",
      "|   188|2022-07-24|   21|      34|         48|           1|    1.0|    86|        86|\n",
      "|  1531|2022-07-26|    9|       0|        222|           1|    0.0|    13|         0|\n",
      "|   273|2022-07-25|   17|       0|         48|           1|    0.0|     8|         0|\n",
      "+------+----------+-----+--------+-----------+------------+-------+------+----------+\n",
      "only showing top 20 rows\n",
      "\n"
     ]
    }
   ],
   "source": [
    "click_output = spark.sql(\"\"\"SELECT job_id, date(ts) as dates, hour(ts) as hours, group_id, campaign_id, publisher_id, Round(AVG(bid),2) as bid_set, count(*) as clicks, sum(bid) as spend_hour \n",
    "                       FROM clicktable \n",
    "                       GROUP BY job_id, campaign_id, group_id, publisher_id, date(ts), hour(ts)\"\"\")\n",
    "click_output.show()"
   ]
  },
  {
   "cell_type": "markdown",
   "metadata": {},
   "source": [
    "## Conversion processing"
   ]
  },
  {
   "cell_type": "code",
   "execution_count": 11,
   "metadata": {},
   "outputs": [],
   "source": [
    "conversion_data = data.filter(data.custom_track == 'conversion')\n",
    "conversion_data = conversion_data.na.fill({'job_id':0})\n",
    "conversion_data = conversion_data.na.fill({'custom_track':0})\n",
    "conversion_data = conversion_data.na.fill({'bid':0})\n",
    "conversion_data = conversion_data.na.fill({'campaign_id':0})\n",
    "conversion_data = conversion_data.na.fill({'group_id':0})\n",
    "conversion_data = conversion_data.na.fill({'publisher_id':0})\n",
    "\n",
    "conversion_data.createTempView('conversiontable')"
   ]
  },
  {
   "cell_type": "code",
   "execution_count": 12,
   "metadata": {},
   "outputs": [
    {
     "name": "stdout",
     "output_type": "stream",
     "text": [
      "+------+----------+-----+--------+-----------+------------+-------+----------+----------+\n",
      "|job_id|     dates|hours|group_id|campaign_id|publisher_id|bid_set|conversion|spend_hour|\n",
      "+------+----------+-----+--------+-----------+------------+-------+----------+----------+\n",
      "|   672|2023-01-15|    4|      11|         61|          15|    0.0|         1|         0|\n",
      "|   125|2023-01-15|    4|      32|          1|          29|    0.0|         1|         0|\n",
      "|   858|2023-01-15|    4|      32|          1|          15|    1.0|         1|         1|\n",
      "|   355|2023-01-15|    4|      21|         61|           2|    0.0|         1|         0|\n",
      "|   458|2023-01-15|    4|      25|         48|          17|    0.0|         1|         0|\n",
      "|  1822|2023-01-15|    4|      27|         55|          22|    0.0|         1|         0|\n",
      "|  1616|2023-01-15|    4|      26|         48|          31|    1.0|         1|         1|\n",
      "|   969|2023-01-15|    4|      35|          5|          13|    1.0|         1|         1|\n",
      "|  1059|2023-01-15|    4|      35|         57|          36|    0.0|         1|         0|\n",
      "|  1119|2023-01-15|    4|      41|        223|           3|    1.0|         1|         1|\n",
      "|  2009|2023-01-15|    4|      10|         48|          31|    1.0|         1|         1|\n",
      "|  1686|2023-01-15|    4|      32|          1|          32|    0.0|         1|         0|\n",
      "|  1723|2023-01-15|    4|      32|         79|          13|    0.0|         1|         0|\n",
      "|    81|2023-01-15|    4|      10|          1|          11|    1.0|         1|         1|\n",
      "|  1806|2023-01-15|    4|      10|        101|          17|    1.0|         1|         1|\n",
      "|   247|2023-01-15|    4|      16|         12|          20|    1.0|         1|         1|\n",
      "|  1871|2023-01-15|    4|      32|        117|          12|    0.0|         1|         0|\n",
      "+------+----------+-----+--------+-----------+------------+-------+----------+----------+\n",
      "\n"
     ]
    }
   ],
   "source": [
    "conversion_output = spark.sql(\"\"\"SELECT job_id, date(ts) as dates, hour(ts) as hours, group_id, campaign_id, publisher_id, Round(AVG(bid),2) as bid_set, count(*) as conversion, sum(bid) as spend_hour \n",
    "                       FROM conversiontable \n",
    "                       GROUP BY job_id, campaign_id, group_id, publisher_id, date(ts), hour(ts)\"\"\")\n",
    "conversion_output.show()"
   ]
  },
  {
   "cell_type": "markdown",
   "metadata": {},
   "source": [
    "## Qualified processing"
   ]
  },
  {
   "cell_type": "code",
   "execution_count": 13,
   "metadata": {},
   "outputs": [],
   "source": [
    "qualified_data = data.filter(data.custom_track == 'qualified')\n",
    "qualified_data = qualified_data.na.fill({'job_id':0})\n",
    "qualified_data = qualified_data.na.fill({'custom_track':0})\n",
    "qualified_data = qualified_data.na.fill({'bid':0})\n",
    "qualified_data = qualified_data.na.fill({'campaign_id':0})\n",
    "qualified_data = qualified_data.na.fill({'group_id':0})\n",
    "qualified_data = qualified_data.na.fill({'publisher_id':0})\n",
    "\n",
    "qualified_data.createTempView('qualifiedtable')"
   ]
  },
  {
   "cell_type": "code",
   "execution_count": 14,
   "metadata": {},
   "outputs": [
    {
     "name": "stdout",
     "output_type": "stream",
     "text": [
      "+------+----------+-----+--------+-----------+------------+-------+---------+----------+\n",
      "|job_id|     dates|hours|group_id|campaign_id|publisher_id|bid_set|qualified|spend_hour|\n",
      "+------+----------+-----+--------+-----------+------------+-------+---------+----------+\n",
      "|  1218|2023-01-15|    4|      22|         33|          12|    1.0|        1|         1|\n",
      "|  1644|2023-01-15|    4|      10|        141|          22|    1.0|        1|         1|\n",
      "|   263|2023-01-15|    4|      26|         59|           3|    1.0|        1|         1|\n",
      "|   671|2023-01-15|    4|      17|         12|          34|    0.0|        1|         0|\n",
      "|   192|2023-01-15|    4|      41|         51|          15|    0.0|        1|         0|\n",
      "|   339|2023-01-15|    4|      41|         12|          29|    0.0|        1|         0|\n",
      "|  1656|2023-01-15|    4|      17|         58|          12|    0.0|        1|         0|\n",
      "|  1981|2023-01-15|    4|      15|         13|          30|    1.0|        1|         1|\n",
      "|  1400|2023-01-15|    4|      17|         79|          30|    1.0|        1|         1|\n",
      "|   496|2023-01-15|    4|      17|          1|          38|    1.0|        1|         1|\n",
      "|   379|2023-01-15|    4|      22|         12|           3|    1.0|        1|         1|\n",
      "|   357|2023-01-15|    4|      32|        193|           9|    0.0|        1|         0|\n",
      "|  1086|2023-01-15|    4|      13|         48|          15|    1.0|        1|         1|\n",
      "|   245|2023-01-15|    4|      13|          1|          24|    0.0|        1|         0|\n",
      "|   782|2023-01-15|    4|      10|         48|          17|    0.0|        1|         0|\n",
      "|  1343|2023-01-15|    4|      21|         97|           3|    0.0|        1|         0|\n",
      "|   505|2023-01-15|    4|      11|         53|           2|    0.0|        1|         0|\n",
      "+------+----------+-----+--------+-----------+------------+-------+---------+----------+\n",
      "\n"
     ]
    }
   ],
   "source": [
    "qualified_output = spark.sql(\"\"\"SELECT job_id, date(ts) as dates, hour(ts) as hours, group_id, campaign_id, publisher_id, Round(AVG(bid),2) as bid_set, count(*) as qualified, sum(bid) as spend_hour \n",
    "                       FROM qualifiedtable \n",
    "                       GROUP BY job_id, campaign_id, group_id, publisher_id, date(ts), hour(ts)\"\"\")\n",
    "qualified_output.show()"
   ]
  },
  {
   "cell_type": "markdown",
   "metadata": {},
   "source": [
    "## Unqualified processing\n"
   ]
  },
  {
   "cell_type": "code",
   "execution_count": 15,
   "metadata": {},
   "outputs": [],
   "source": [
    "unqualified_data = data.filter(data.custom_track == 'unqualified')\n",
    "unqualified_data = unqualified_data.na.fill({'job_id':0})\n",
    "unqualified_data = unqualified_data.na.fill({'custom_track':0})\n",
    "unqualified_data = unqualified_data.na.fill({'bid':0})\n",
    "unqualified_data = unqualified_data.na.fill({'campaign_id':0})\n",
    "unqualified_data = unqualified_data.na.fill({'group_id':0})\n",
    "unqualified_data = unqualified_data.na.fill({'publisher_id':0})\n",
    "\n",
    "unqualified_data.createTempView('unqualifiedtable')"
   ]
  },
  {
   "cell_type": "code",
   "execution_count": 16,
   "metadata": {},
   "outputs": [
    {
     "name": "stdout",
     "output_type": "stream",
     "text": [
      "+------+----------+-----+--------+-----------+------------+-------+-----------+----------+\n",
      "|job_id|     dates|hours|group_id|campaign_id|publisher_id|bid_set|unqualified|spend_hour|\n",
      "+------+----------+-----+--------+-----------+------------+-------+-----------+----------+\n",
      "|  2051|2023-01-15|    4|      41|        122|           9|    0.0|          1|         0|\n",
      "|  2002|2023-01-15|    4|      17|         15|          33|    1.0|          1|         1|\n",
      "|   311|2023-01-15|    4|      14|         53|          12|    0.0|          1|         0|\n",
      "|   285|2023-01-15|    4|      41|         57|           9|    1.0|          1|         1|\n",
      "|   197|2023-01-15|    4|      17|         12|          15|    1.0|          1|         1|\n",
      "|   990|2023-01-15|    4|      21|         70|          10|    1.0|          1|         1|\n",
      "|  1280|2023-01-15|    4|      37|          9|           9|    1.0|          1|         1|\n",
      "|  1997|2023-01-15|    4|      27|         61|          15|    1.0|          1|         1|\n",
      "|   212|2023-01-15|    4|      41|         48|          22|    1.0|          1|         1|\n",
      "|    76|2023-01-15|    4|      10|         54|          33|    1.0|          1|         1|\n",
      "|  1391|2023-01-15|    4|      22|          1|          37|    0.0|          1|         0|\n",
      "|  1688|2023-01-15|    4|      26|         61|          17|    1.0|          1|         1|\n",
      "|  1197|2023-01-15|    4|      41|         57|          17|    1.0|          1|         1|\n",
      "|   760|2023-01-15|    4|      32|         13|          37|    0.0|          1|         0|\n",
      "|   512|2023-01-15|    4|      35|         61|          17|    0.0|          1|         0|\n",
      "|   885|2023-01-15|    4|      15|         13|          12|    1.0|          1|         1|\n",
      "|  1414|2023-01-15|    4|      10|         10|          24|    0.0|          1|         0|\n",
      "|  1945|2023-01-15|    4|      10|         13|          33|    1.0|          1|         1|\n",
      "|   463|2023-01-15|    4|      17|          1|           3|    0.0|          1|         0|\n",
      "|  1130|2023-01-15|    4|      19|        117|          30|    0.0|          1|         0|\n",
      "+------+----------+-----+--------+-----------+------------+-------+-----------+----------+\n",
      "only showing top 20 rows\n",
      "\n"
     ]
    }
   ],
   "source": [
    "unqualified_output = spark.sql(\"\"\"SELECT job_id, date(ts) as dates, hour(ts) as hours, group_id, campaign_id, publisher_id, Round(AVG(bid),2) as bid_set, count(*) as unqualified, sum(bid) as spend_hour \n",
    "                       FROM unqualifiedtable \n",
    "                       GROUP BY job_id, campaign_id, group_id, publisher_id, date(ts), hour(ts)\"\"\")\n",
    "unqualified_output.show()"
   ]
  },
  {
   "cell_type": "markdown",
   "metadata": {},
   "source": [
    "## Merge to get final data"
   ]
  },
  {
   "cell_type": "code",
   "execution_count": 17,
   "metadata": {},
   "outputs": [
    {
     "name": "stdout",
     "output_type": "stream",
     "text": [
      "+------+----------+-----+------------+-----------+--------+-------+----------+------+----------+---------------------+------------------------+\n",
      "|job_id|     dates|hours|publisher_id|campaign_id|group_id|bid_set|spend_hour|clicks|conversion|qualified_application|disqualified_application|\n",
      "+------+----------+-----+------------+-----------+--------+-------+----------+------+----------+---------------------+------------------------+\n",
      "|    76|2023-01-15|    4|          33|         54|      10|    1.0|         1|  NULL|      NULL|                 NULL|                       1|\n",
      "|    81|2023-01-15|    4|          11|          1|      10|    1.0|         1|  NULL|         1|                 NULL|                    NULL|\n",
      "|    90|2023-01-15|    4|          33|        198|      10|    1.0|         1|  NULL|      NULL|                 NULL|                       1|\n",
      "|    98|2022-07-08|   16|           1|          4|       0|    2.0|       216|   108|      NULL|                 NULL|                    NULL|\n",
      "|    98|2022-07-13|   22|           1|          4|       0|    2.0|         2|     1|      NULL|                 NULL|                    NULL|\n",
      "|    98|2022-07-26|    9|           1|          4|       0|    2.0|        28|    14|      NULL|                 NULL|                    NULL|\n",
      "|    98|2022-07-26|   13|           1|          4|       0|    2.0|        28|    14|      NULL|                 NULL|                    NULL|\n",
      "|    98|2022-07-27|   11|           1|          4|       0|    2.0|        38|    19|      NULL|                 NULL|                    NULL|\n",
      "|   119|2023-01-15|    4|          15|          9|      10|    1.0|         1|  NULL|      NULL|                 NULL|                       1|\n",
      "|   122|2023-01-15|    4|          13|         79|      10|    1.0|         1|     1|      NULL|                 NULL|                    NULL|\n",
      "|   125|2023-01-15|    4|          29|          1|      32|    0.0|         0|  NULL|         1|                 NULL|                    NULL|\n",
      "|   179|2023-01-15|    4|          27|          1|      16|    0.0|         0|     1|      NULL|                 NULL|                    NULL|\n",
      "|   187|2022-07-07|   10|           1|         48|       0|   0.33|         2|     6|      NULL|                 NULL|                    NULL|\n",
      "|   187|2022-07-08|   11|           1|         48|       0|    0.0|         0|     2|      NULL|                 NULL|                    NULL|\n",
      "|   187|2022-07-08|   13|           1|         48|       0|    2.0|        12|     6|      NULL|                 NULL|                    NULL|\n",
      "|   187|2022-07-26|   13|           1|         48|      34|    1.0|        10|    10|      NULL|                 NULL|                    NULL|\n",
      "|   187|2022-07-27|   11|           1|         48|      34|    1.0|        15|    15|      NULL|                 NULL|                    NULL|\n",
      "|   188|2022-07-24|   17|           1|         48|      34|    1.0|        25|    25|      NULL|                 NULL|                    NULL|\n",
      "|   188|2022-07-24|   21|           1|         48|      34|    1.0|        86|    86|      NULL|                 NULL|                    NULL|\n",
      "|   188|2022-07-25|   16|           1|         48|      34|    1.0|        52|    52|      NULL|                 NULL|                    NULL|\n",
      "+------+----------+-----+------------+-----------+--------+-------+----------+------+----------+---------------------+------------------------+\n",
      "only showing top 20 rows\n",
      "\n"
     ]
    }
   ],
   "source": [
    "final_data = click_output.join(conversion_output,['job_id','dates','hours','publisher_id','campaign_id','group_id', 'bid_set', 'spend_hour'],'full').\\\n",
    "    join(qualified_output,['job_id','dates','hours','publisher_id','campaign_id','group_id', 'bid_set', 'spend_hour'],'full').\\\n",
    "    join(unqualified_output,['job_id','dates','hours','publisher_id','campaign_id','group_id', 'bid_set', 'spend_hour'],'full')\n",
    "final_data = final_data.withColumnRenamed('qualified', 'qualified_application').withColumnRenamed('unqualified', 'disqualified_application')\n",
    "final_data.show()"
   ]
  },
  {
   "cell_type": "markdown",
   "metadata": {},
   "source": [
    "## Get company_df "
   ]
  },
  {
   "cell_type": "code",
   "execution_count": 18,
   "metadata": {},
   "outputs": [
    {
     "name": "stdout",
     "output_type": "stream",
     "text": [
      "+------+----------+--------+-----------+\n",
      "|job_id|company_id|group_id|campaign_id|\n",
      "+------+----------+--------+-----------+\n",
      "|     2|         1|      10|          1|\n",
      "|     3|         1|      10|          1|\n",
      "|     4|         1|      10|          1|\n",
      "|     5|         1|      10|          1|\n",
      "|     6|         1|      10|          1|\n",
      "|     7|         1|      10|          1|\n",
      "|     8|         1|      10|          1|\n",
      "|     9|         1|      10|          1|\n",
      "|    39|         1|    NULL|          1|\n",
      "|    40|         1|      10|          1|\n",
      "|    41|         1|      10|          1|\n",
      "|    42|         1|      10|          1|\n",
      "|    43|         1|    NULL|          1|\n",
      "|    44|         1|      10|          1|\n",
      "|    45|         1|      10|          1|\n",
      "|    46|         1|      10|          1|\n",
      "|    47|         1|      10|          1|\n",
      "|    48|         1|      10|          1|\n",
      "|    49|         1|      10|          1|\n",
      "|    50|         1|      10|          1|\n",
      "+------+----------+--------+-----------+\n",
      "only showing top 20 rows\n",
      "\n"
     ]
    }
   ],
   "source": [
    "company_df = spark.read \\\n",
    "    .format(\"jdbc\") \\\n",
    "    .option(\"driver\",\"com.mysql.jdbc.Driver\") \\\n",
    "    .option(\"url\", \"jdbc:mysql://{host}:3306/{db}\".format(host=MYSQL_HOST, db=MYSQL_DATABASE)) \\\n",
    "    .option(\"dbtable\", \"\"\"(SELECT id as job_id, company_id, group_id, campaign_id FROM job) test\"\"\") \\\n",
    "    .option(\"user\", \"root\") \\\n",
    "    .option(\"password\", \"1\") \\\n",
    "    .load()\n",
    "company_df.show()"
   ]
  },
  {
   "cell_type": "markdown",
   "metadata": {},
   "source": [
    "## Merge company & final data"
   ]
  },
  {
   "cell_type": "code",
   "execution_count": 19,
   "metadata": {},
   "outputs": [
    {
     "name": "stdout",
     "output_type": "stream",
     "text": [
      "+------+----------+-----+------------+-----------+--------+-------+----------+------+----------+---------------------+------------------------+----------+\n",
      "|job_id|     dates|hours|publisher_id|campaign_id|group_id|bid_set|spend_hour|clicks|conversion|qualified_application|disqualified_application|company_id|\n",
      "+------+----------+-----+------------+-----------+--------+-------+----------+------+----------+---------------------+------------------------+----------+\n",
      "|    76|2023-01-15|    4|          33|         54|      10|    1.0|         1|  NULL|      NULL|                 NULL|                       1|         1|\n",
      "|    81|2023-01-15|    4|          11|          1|      10|    1.0|         1|  NULL|         1|                 NULL|                    NULL|         1|\n",
      "|    90|2023-01-15|    4|          33|        198|      10|    1.0|         1|  NULL|      NULL|                 NULL|                       1|         1|\n",
      "|    98|2022-07-08|   16|           1|          4|       0|    2.0|       216|   108|      NULL|                 NULL|                    NULL|         1|\n",
      "|    98|2022-07-13|   22|           1|          4|       0|    2.0|         2|     1|      NULL|                 NULL|                    NULL|         1|\n",
      "|    98|2022-07-26|    9|           1|          4|       0|    2.0|        28|    14|      NULL|                 NULL|                    NULL|         1|\n",
      "|    98|2022-07-26|   13|           1|          4|       0|    2.0|        28|    14|      NULL|                 NULL|                    NULL|         1|\n",
      "|    98|2022-07-27|   11|           1|          4|       0|    2.0|        38|    19|      NULL|                 NULL|                    NULL|         1|\n",
      "|   119|2023-01-15|    4|          15|          9|      10|    1.0|         1|  NULL|      NULL|                 NULL|                       1|         1|\n",
      "|   122|2023-01-15|    4|          13|         79|      10|    1.0|         1|     1|      NULL|                 NULL|                    NULL|         1|\n",
      "|   125|2023-01-15|    4|          29|          1|      32|    0.0|         0|  NULL|         1|                 NULL|                    NULL|         1|\n",
      "|   179|2023-01-15|    4|          27|          1|      16|    0.0|         0|     1|      NULL|                 NULL|                    NULL|         1|\n",
      "|   187|2022-07-07|   10|           1|         48|       0|   0.33|         2|     6|      NULL|                 NULL|                    NULL|        33|\n",
      "|   187|2022-07-08|   11|           1|         48|       0|    0.0|         0|     2|      NULL|                 NULL|                    NULL|        33|\n",
      "|   187|2022-07-08|   13|           1|         48|       0|    2.0|        12|     6|      NULL|                 NULL|                    NULL|        33|\n",
      "|   187|2022-07-26|   13|           1|         48|      34|    1.0|        10|    10|      NULL|                 NULL|                    NULL|        33|\n",
      "|   187|2022-07-27|   11|           1|         48|      34|    1.0|        15|    15|      NULL|                 NULL|                    NULL|        33|\n",
      "|   188|2022-07-24|   17|           1|         48|      34|    1.0|        25|    25|      NULL|                 NULL|                    NULL|        33|\n",
      "|   188|2022-07-24|   21|           1|         48|      34|    1.0|        86|    86|      NULL|                 NULL|                    NULL|        33|\n",
      "|   188|2022-07-25|   16|           1|         48|      34|    1.0|        52|    52|      NULL|                 NULL|                    NULL|        33|\n",
      "+------+----------+-----+------------+-----------+--------+-------+----------+------+----------+---------------------+------------------------+----------+\n",
      "only showing top 20 rows\n",
      "\n"
     ]
    }
   ],
   "source": [
    "final_output = final_data.join(company_df,'job_id','left').drop(company_df.campaign_id).drop(company_df.group_id)\n",
    "final_output.show()"
   ]
  },
  {
   "cell_type": "code",
   "execution_count": 20,
   "metadata": {},
   "outputs": [
    {
     "name": "stdout",
     "output_type": "stream",
     "text": [
      "+------+----------+-----+------------+-----------+--------+-------+----------+------+----------+---------------------+------------------------+----------+---------+\n",
      "|job_id|     dates|hours|publisher_id|campaign_id|group_id|bid_set|spend_hour|clicks|conversion|qualified_application|disqualified_application|company_id|  sources|\n",
      "+------+----------+-----+------------+-----------+--------+-------+----------+------+----------+---------------------+------------------------+----------+---------+\n",
      "|    76|2023-01-15|    4|          33|         54|      10|    1.0|         1|     0|         0|                    0|                       1|         1|Cassandra|\n",
      "|    81|2023-01-15|    4|          11|          1|      10|    1.0|         1|     0|         1|                    0|                       0|         1|Cassandra|\n",
      "|    90|2023-01-15|    4|          33|        198|      10|    1.0|         1|     0|         0|                    0|                       1|         1|Cassandra|\n",
      "|    98|2022-07-08|   16|           1|          4|       0|    2.0|       216|   108|         0|                    0|                       0|         1|Cassandra|\n",
      "|    98|2022-07-13|   22|           1|          4|       0|    2.0|         2|     1|         0|                    0|                       0|         1|Cassandra|\n",
      "|    98|2022-07-26|    9|           1|          4|       0|    2.0|        28|    14|         0|                    0|                       0|         1|Cassandra|\n",
      "|    98|2022-07-26|   13|           1|          4|       0|    2.0|        28|    14|         0|                    0|                       0|         1|Cassandra|\n",
      "|    98|2022-07-27|   11|           1|          4|       0|    2.0|        38|    19|         0|                    0|                       0|         1|Cassandra|\n",
      "|   119|2023-01-15|    4|          15|          9|      10|    1.0|         1|     0|         0|                    0|                       1|         1|Cassandra|\n",
      "|   122|2023-01-15|    4|          13|         79|      10|    1.0|         1|     1|         0|                    0|                       0|         1|Cassandra|\n",
      "|   125|2023-01-15|    4|          29|          1|      32|    0.0|         0|     0|         1|                    0|                       0|         1|Cassandra|\n",
      "|   179|2023-01-15|    4|          27|          1|      16|    0.0|         0|     1|         0|                    0|                       0|         1|Cassandra|\n",
      "|   187|2022-07-07|   10|           1|         48|       0|   0.33|         2|     6|         0|                    0|                       0|        33|Cassandra|\n",
      "|   187|2022-07-08|   11|           1|         48|       0|    0.0|         0|     2|         0|                    0|                       0|        33|Cassandra|\n",
      "|   187|2022-07-08|   13|           1|         48|       0|    2.0|        12|     6|         0|                    0|                       0|        33|Cassandra|\n",
      "|   187|2022-07-26|   13|           1|         48|      34|    1.0|        10|    10|         0|                    0|                       0|        33|Cassandra|\n",
      "|   187|2022-07-27|   11|           1|         48|      34|    1.0|        15|    15|         0|                    0|                       0|        33|Cassandra|\n",
      "|   188|2022-07-24|   17|           1|         48|      34|    1.0|        25|    25|         0|                    0|                       0|        33|Cassandra|\n",
      "|   188|2022-07-24|   21|           1|         48|      34|    1.0|        86|    86|         0|                    0|                       0|        33|Cassandra|\n",
      "|   188|2022-07-25|   16|           1|         48|      34|    1.0|        52|    52|         0|                    0|                       0|        33|Cassandra|\n",
      "+------+----------+-----+------------+-----------+--------+-------+----------+------+----------+---------------------+------------------------+----------+---------+\n",
      "only showing top 20 rows\n",
      "\n"
     ]
    }
   ],
   "source": [
    "from pyspark.sql.functions import lit\n",
    "\n",
    "final_output = final_output.na.fill({'clicks':'0'})\n",
    "final_output = final_output.na.fill({'conversion':'0'})\n",
    "final_output = final_output.na.fill({'qualified_application':'0'})\n",
    "final_output = final_output.na.fill({'disqualified_application':'0'})\n",
    "final_output = final_output.withColumn('sources', lit('Cassandra'))\n",
    "final_output.show()\n"
   ]
  },
  {
   "cell_type": "markdown",
   "metadata": {},
   "source": [
    "# Output\n"
   ]
  },
  {
   "cell_type": "markdown",
   "metadata": {},
   "source": [
    "## Add timestamp to output"
   ]
  },
  {
   "cell_type": "code",
   "execution_count": 21,
   "metadata": {},
   "outputs": [
    {
     "data": {
      "text/plain": [
       "datetime.datetime(2023, 1, 15, 4, 56, 5)"
      ]
     },
     "execution_count": 21,
     "metadata": {},
     "output_type": "execute_result"
    }
   ],
   "source": [
    "latest_modified_time = spark_df.select(F.max('ts')).collect()[0][0]\n",
    "latest_modified_time"
   ]
  },
  {
   "cell_type": "code",
   "execution_count": 22,
   "metadata": {},
   "outputs": [],
   "source": [
    "latest_modified_time = spark_df.select(F.max('ts')).collect()[0][0]\n",
    "final_output = final_output.withColumn('latest_modified_time', F.lit(latest_modified_time))"
   ]
  },
  {
   "cell_type": "code",
   "execution_count": 23,
   "metadata": {},
   "outputs": [
    {
     "name": "stdout",
     "output_type": "stream",
     "text": [
      "+------+----------+-----+------------+-----------+--------+-------+----------+------+----------+---------------------+------------------------+----------+---------+--------------------+\n",
      "|job_id|     dates|hours|publisher_id|campaign_id|group_id|bid_set|spend_hour|clicks|conversion|qualified_application|disqualified_application|company_id|  sources|latest_modified_time|\n",
      "+------+----------+-----+------------+-----------+--------+-------+----------+------+----------+---------------------+------------------------+----------+---------+--------------------+\n",
      "|    76|2023-01-15|    4|          33|         54|      10|    1.0|         1|     0|         0|                    0|                       1|         1|Cassandra| 2023-01-15 04:56:05|\n",
      "|    81|2023-01-15|    4|          11|          1|      10|    1.0|         1|     0|         1|                    0|                       0|         1|Cassandra| 2023-01-15 04:56:05|\n",
      "|    90|2023-01-15|    4|          33|        198|      10|    1.0|         1|     0|         0|                    0|                       1|         1|Cassandra| 2023-01-15 04:56:05|\n",
      "|    98|2022-07-08|   16|           1|          4|       0|    2.0|       216|   108|         0|                    0|                       0|         1|Cassandra| 2023-01-15 04:56:05|\n",
      "|    98|2022-07-13|   22|           1|          4|       0|    2.0|         2|     1|         0|                    0|                       0|         1|Cassandra| 2023-01-15 04:56:05|\n",
      "|    98|2022-07-26|    9|           1|          4|       0|    2.0|        28|    14|         0|                    0|                       0|         1|Cassandra| 2023-01-15 04:56:05|\n",
      "|    98|2022-07-26|   13|           1|          4|       0|    2.0|        28|    14|         0|                    0|                       0|         1|Cassandra| 2023-01-15 04:56:05|\n",
      "|    98|2022-07-27|   11|           1|          4|       0|    2.0|        38|    19|         0|                    0|                       0|         1|Cassandra| 2023-01-15 04:56:05|\n",
      "|   119|2023-01-15|    4|          15|          9|      10|    1.0|         1|     0|         0|                    0|                       1|         1|Cassandra| 2023-01-15 04:56:05|\n",
      "|   122|2023-01-15|    4|          13|         79|      10|    1.0|         1|     1|         0|                    0|                       0|         1|Cassandra| 2023-01-15 04:56:05|\n",
      "|   125|2023-01-15|    4|          29|          1|      32|    0.0|         0|     0|         1|                    0|                       0|         1|Cassandra| 2023-01-15 04:56:05|\n",
      "|   179|2023-01-15|    4|          27|          1|      16|    0.0|         0|     1|         0|                    0|                       0|         1|Cassandra| 2023-01-15 04:56:05|\n",
      "|   187|2022-07-07|   10|           1|         48|       0|   0.33|         2|     6|         0|                    0|                       0|        33|Cassandra| 2023-01-15 04:56:05|\n",
      "|   187|2022-07-08|   11|           1|         48|       0|    0.0|         0|     2|         0|                    0|                       0|        33|Cassandra| 2023-01-15 04:56:05|\n",
      "|   187|2022-07-08|   13|           1|         48|       0|    2.0|        12|     6|         0|                    0|                       0|        33|Cassandra| 2023-01-15 04:56:05|\n",
      "|   187|2022-07-26|   13|           1|         48|      34|    1.0|        10|    10|         0|                    0|                       0|        33|Cassandra| 2023-01-15 04:56:05|\n",
      "|   187|2022-07-27|   11|           1|         48|      34|    1.0|        15|    15|         0|                    0|                       0|        33|Cassandra| 2023-01-15 04:56:05|\n",
      "|   188|2022-07-24|   17|           1|         48|      34|    1.0|        25|    25|         0|                    0|                       0|        33|Cassandra| 2023-01-15 04:56:05|\n",
      "|   188|2022-07-24|   21|           1|         48|      34|    1.0|        86|    86|         0|                    0|                       0|        33|Cassandra| 2023-01-15 04:56:05|\n",
      "|   188|2022-07-25|   16|           1|         48|      34|    1.0|        52|    52|         0|                    0|                       0|        33|Cassandra| 2023-01-15 04:56:05|\n",
      "+------+----------+-----+------------+-----------+--------+-------+----------+------+----------+---------------------+------------------------+----------+---------+--------------------+\n",
      "only showing top 20 rows\n",
      "\n"
     ]
    }
   ],
   "source": [
    "final_output.show()"
   ]
  },
  {
   "cell_type": "code",
   "execution_count": 24,
   "metadata": {},
   "outputs": [],
   "source": [
    "final_output.write.format(\"jdbc\") \\\n",
    "    .option(\"driver\",\"com.mysql.cj.jdbc.Driver\") \\\n",
    "    .option(\"url\", \"jdbc:mysql://localhost:3306/Data_Warehouse\") \\\n",
    "    .option(\"dbtable\", \"events\") \\\n",
    "    .mode(\"append\") \\\n",
    "    .option(\"user\", \"root\") \\\n",
    "    .option(\"password\", \"1\") \\\n",
    "    .save()"
   ]
  },
  {
   "cell_type": "code",
   "execution_count": 25,
   "metadata": {},
   "outputs": [
    {
     "name": "stdout",
     "output_type": "stream",
     "text": [
      "+---+------+----------+-----+------------+----------+-----------+--------+------------------------+---------------------+----------+------+-------+----------+---------+--------------------+\n",
      "| id|job_id|     dates|hours|publisher_id|company_id|campaign_id|group_id|disqualified_application|qualified_application|conversion|clicks|bid_set|spend_hour|  sources|latest_modified_time|\n",
      "+---+------+----------+-----+------------+----------+-----------+--------+------------------------+---------------------+----------+------+-------+----------+---------+--------------------+\n",
      "|  1|    76|2023-01-15|    4|          33|         1|         54|      10|                       1|                    0|         0|     0|    1.0|       1.0|Cassandra| 2023-01-15 04:56:05|\n",
      "|  2|    81|2023-01-15|    4|          11|         1|          1|      10|                       0|                    0|         1|     0|    1.0|       1.0|Cassandra| 2023-01-15 04:56:05|\n",
      "|  3|    90|2023-01-15|    4|          33|         1|        198|      10|                       1|                    0|         0|     0|    1.0|       1.0|Cassandra| 2023-01-15 04:56:05|\n",
      "|  4|    98|2022-07-08|   16|           1|         1|          4|       0|                       0|                    0|         0|   108|    2.0|     216.0|Cassandra| 2023-01-15 04:56:05|\n",
      "|  5|    98|2022-07-13|   22|           1|         1|          4|       0|                       0|                    0|         0|     1|    2.0|       2.0|Cassandra| 2023-01-15 04:56:05|\n",
      "|  6|    98|2022-07-26|    9|           1|         1|          4|       0|                       0|                    0|         0|    14|    2.0|      28.0|Cassandra| 2023-01-15 04:56:05|\n",
      "|  7|    98|2022-07-26|   13|           1|         1|          4|       0|                       0|                    0|         0|    14|    2.0|      28.0|Cassandra| 2023-01-15 04:56:05|\n",
      "|  8|    98|2022-07-27|   11|           1|         1|          4|       0|                       0|                    0|         0|    19|    2.0|      38.0|Cassandra| 2023-01-15 04:56:05|\n",
      "|  9|   119|2023-01-15|    4|          15|         1|          9|      10|                       1|                    0|         0|     0|    1.0|       1.0|Cassandra| 2023-01-15 04:56:05|\n",
      "| 10|   122|2023-01-15|    4|          13|         1|         79|      10|                       0|                    0|         0|     1|    1.0|       1.0|Cassandra| 2023-01-15 04:56:05|\n",
      "| 11|   125|2023-01-15|    4|          29|         1|          1|      32|                       0|                    0|         1|     0|    0.0|       0.0|Cassandra| 2023-01-15 04:56:05|\n",
      "| 12|   179|2023-01-15|    4|          27|         1|          1|      16|                       0|                    0|         0|     1|    0.0|       0.0|Cassandra| 2023-01-15 04:56:05|\n",
      "| 13|   187|2022-07-07|   10|           1|        33|         48|       0|                       0|                    0|         0|     6|   0.33|       2.0|Cassandra| 2023-01-15 04:56:05|\n",
      "| 14|   187|2022-07-08|   11|           1|        33|         48|       0|                       0|                    0|         0|     2|    0.0|       0.0|Cassandra| 2023-01-15 04:56:05|\n",
      "| 15|   187|2022-07-08|   13|           1|        33|         48|       0|                       0|                    0|         0|     6|    2.0|      12.0|Cassandra| 2023-01-15 04:56:05|\n",
      "| 16|   187|2022-07-26|   13|           1|        33|         48|      34|                       0|                    0|         0|    10|    1.0|      10.0|Cassandra| 2023-01-15 04:56:05|\n",
      "| 17|   187|2022-07-27|   11|           1|        33|         48|      34|                       0|                    0|         0|    15|    1.0|      15.0|Cassandra| 2023-01-15 04:56:05|\n",
      "| 18|   188|2022-07-24|   17|           1|        33|         48|      34|                       0|                    0|         0|    25|    1.0|      25.0|Cassandra| 2023-01-15 04:56:05|\n",
      "| 19|   188|2022-07-24|   21|           1|        33|         48|      34|                       0|                    0|         0|    86|    1.0|      86.0|Cassandra| 2023-01-15 04:56:05|\n",
      "| 20|   188|2022-07-25|   16|           1|        33|         48|      34|                       0|                    0|         0|    52|    1.0|      52.0|Cassandra| 2023-01-15 04:56:05|\n",
      "+---+------+----------+-----+------------+----------+-----------+--------+------------------------+---------------------+----------+------+-------+----------+---------+--------------------+\n",
      "only showing top 20 rows\n",
      "\n"
     ]
    }
   ],
   "source": [
    "spark = SparkSession.builder.config('spark.jars.packages','com.mysql:mysql-connector-j:8.0.33').getOrCreate()\n",
    "\n",
    "df = spark.read \\\n",
    "    .format(\"jdbc\") \\\n",
    "    .option(\"driver\",\"com.mysql.jdbc.Driver\") \\\n",
    "    .option(\"url\", \"jdbc:mysql://{host}:3306/{db}\".format(host=MYSQL_HOST, db=MYSQL_DATABASE)) \\\n",
    "    .option(\"dbtable\", \"events\") \\\n",
    "    .option(\"user\", \"root\") \\\n",
    "    .option(\"password\", \"1\") \\\n",
    "    .load()\n",
    "\n",
    "df.show()"
   ]
  }
 ],
 "metadata": {
  "kernelspec": {
   "display_name": "Python 3",
   "language": "python",
   "name": "python3"
  },
  "language_info": {
   "codemirror_mode": {
    "name": "ipython",
    "version": 3
   },
   "file_extension": ".py",
   "mimetype": "text/x-python",
   "name": "python",
   "nbconvert_exporter": "python",
   "pygments_lexer": "ipython3",
   "version": "3.11.6"
  }
 },
 "nbformat": 4,
 "nbformat_minor": 4
}
