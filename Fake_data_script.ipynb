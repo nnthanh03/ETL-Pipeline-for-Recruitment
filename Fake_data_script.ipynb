{
 "cells": [
  {
   "cell_type": "code",
   "execution_count": 1,
   "metadata": {},
   "outputs": [],
   "source": [
    "from pyspark.sql import SparkSession\n",
    "from pyspark.sql import functions as F\n",
    "\n",
    "from datetime import datetime\n",
    "import random\n",
    "import cassandra\n",
    "import datetime\n",
    "from cassandra.util import uuid_from_time\n"
   ]
  },
  {
   "cell_type": "code",
   "execution_count": 2,
   "metadata": {},
   "outputs": [],
   "source": [
    "CASSANDRA_HOST = \"etl_cassandra\"\n",
    "CASSANDRA_KEYSPACE = \"de_project\"\n",
    "CASSANDRA_TABLE = \"tracking\"\n",
    "\n",
    "MYSQL_HOST = \"localhost\"\n",
    "MYSQL_DATABASE = \"Data_Warehouse\"\n",
    "# MYSQL_ROOT_PASSWORD = \"123456\"\n"
   ]
  },
  {
   "cell_type": "code",
   "execution_count": 3,
   "metadata": {},
   "outputs": [],
   "source": [
    "spark = (\n",
    "    SparkSession.builder\n",
    "    .config(\"spark.jars.packages\", \n",
    "            \"com.datastax.spark:spark-cassandra-connector_2.12:3.1.0,\"\n",
    "            \"com.mysql:mysql-connector-j:8.0.33\")\n",
    "    .getOrCreate()\n",
    ")"
   ]
  },
  {
   "cell_type": "code",
   "execution_count": 4,
   "metadata": {},
   "outputs": [],
   "source": [
    "df_tracking = spark.read.format(\"org.apache.spark.sql.cassandra\").options(table=CASSANDRA_TABLE,keyspace=CASSANDRA_KEYSPACE)\\\n",
    "    .load()"
   ]
  },
  {
   "cell_type": "code",
   "execution_count": 5,
   "metadata": {},
   "outputs": [],
   "source": [
    "from cassandra.cluster import Cluster\n",
    "\n",
    "cluster = Cluster()  \n",
    "session = cluster.connect()\n",
    "session.set_keyspace(CASSANDRA_KEYSPACE)"
   ]
  },
  {
   "cell_type": "code",
   "execution_count": 10,
   "metadata": {},
   "outputs": [
    {
     "name": "stdout",
     "output_type": "stream",
     "text": [
      "+------+\n",
      "|job_id|\n",
      "+------+\n",
      "|  1533|\n",
      "|   336|\n",
      "|   122|\n",
      "|   258|\n",
      "|  1530|\n",
      "|  1529|\n",
      "|  1527|\n",
      "|  1531|\n",
      "|   273|\n",
      "|  1103|\n",
      "|    98|\n",
      "|  1532|\n",
      "|   188|\n",
      "|   357|\n",
      "|  1534|\n",
      "|   187|\n",
      "|  1280|\n",
      "|   285|\n",
      "|   493|\n",
      "|   440|\n",
      "+------+\n",
      "only showing top 20 rows\n",
      "\n"
     ]
    }
   ],
   "source": [
    "df_tracking.select('job_id').distinct().show()"
   ]
  },
  {
   "cell_type": "code",
   "execution_count": null,
   "metadata": {},
   "outputs": [],
   "source": [
    "col_jobid = [496, 1533, 606, 336, 1197, 1400, 440, 760, 2026, 258, 1530, 1529, 1527, 1677, 1531, 273, 1103, 98, 1532, 188, 1981, 1534, 996, 187, 463, 192, 1130, 339, 1632, 179, 1893, 1592, 90, 1686, 213, 119, 1109, 737, 1871, 1602, 311, 1280, 285, 493, 1119, 197, 2009, 990, 379, 1710, 122, 357, 1005, 1886, 355, 1488, 1391, 1086, 858, 1156, 2051, 1447, 1681, 1644, 1218, 1196, 1634, 1723, 206, 263, 538, 0, 1539, 769, 125, 2002, 974, 512, 885, 1414, 1210, 1945, 672, 731, 1688, 1656, 1565, 671, 81, 76, 1806, 1497, 679, 247, 245, 782, 1285, 252, 458, 1616, 1822, 969, 505, 1059, 1343, 1257, 1430, 1078, 1997, 926, 1663, 212, 1169, 952, 481, 1144, 1849, 1791, 272, None]\n",
    "col_customtrack = ['conversion', 'redirect', 'click', 'unqualified', 'alive', 'qualified', 'interview_scheduled', '0', 'superpixel', None]\n",
    "col_bid = [1, 7, 2, 0, None]\n",
    "col_campaignid = [222, 93, 232, 1, 13, 57, 48, 15, 4, 151, 79, 144, 122, 58, 12, 61, 53, 141, 33, 5, 63, 97, 101, 178, 54, 55, 193, 223, 59, 117, 9, 51, 70, 8, 10, 198, None]\n",
    "col_groupid = [34, 28, 27, 16, 19, 10, 21, 11, 22, 13, 41, 32, 12, 15, 14, 35, 25, 17, 37, 26, 31, None]\n",
    "col_publisherid = [1, 5, 3, 20, 15, 35, 33, 12, 22, 23, 11, 13, 9, 30, 27, 17, 34, 16, 24, 29, 2, 38, 31, 37, 10, 32, 36, 28, None]\n"
   ]
  },
  {
   "cell_type": "code",
   "execution_count": null,
   "metadata": {},
   "outputs": [],
   "source": [
    "col_jobid = df_tracking.select('job_id').distinct().rdd.flatMap(lambda x: x).collect()\n",
    "col_customtrack = df_tracking.select('custom_track').distinct().rdd.flatMap(lambda x: x).collect()\n",
    "col_bid = df_tracking.select('bid').distinct().rdd.flatMap(lambda x: x).collect()\n",
    "col_campaignid = df_tracking.select('campaign_id').distinct().rdd.flatMap(lambda x: x).collect()\n",
    "col_groupid = df_tracking.select('group_id').distinct().rdd.flatMap(lambda x: x).collect()\n",
    "col_publisherid = df_tracking.select('publisher_id').distinct().rdd.flatMap(lambda x: x).collect()\n"
   ]
  },
  {
   "cell_type": "code",
   "execution_count": null,
   "metadata": {},
   "outputs": [
    {
     "name": "stdout",
     "output_type": "stream",
     "text": [
      " INSERT INTO tracking (create_time,bid,campaign_id,custom_track,group_id,job_id,publisher_id,ts) VALUES (38c42260-e630-11ef-ad38-793a1fc119eb,2,223,'unqualified',32,188,32,'2025-02-08 15:20:25')\n",
      "INSERT INTO Cassandra thành công! 0\n",
      " INSERT INTO tracking (create_time,bid,campaign_id,custom_track,group_id,job_id,publisher_id,ts) VALUES (38d455cc-e630-11ef-87d5-a58c08c88e2d,7,222,'interview_scheduled',26,0,13,'2025-02-08 15:20:25')\n",
      "INSERT INTO Cassandra thành công! 1\n",
      " INSERT INTO tracking (create_time,bid,campaign_id,custom_track,group_id,job_id,publisher_id,ts) VALUES (38d5d0be-e630-11ef-bbb1-250fb3d88090,2,97,'superpixel',19,1103,35,'2025-02-08 15:20:25')\n",
      "INSERT INTO Cassandra thành công! 2\n",
      " INSERT INTO tracking (create_time,bid,campaign_id,custom_track,group_id,job_id,publisher_id,ts) VALUES (38d7fda8-e630-11ef-9a97-094a9dac16aa,7,63,'redirect',27,0,33,'2025-02-08 15:20:25')\n",
      "INSERT INTO Cassandra thành công! 3\n",
      " INSERT INTO tracking (create_time,bid,campaign_id,custom_track,group_id,job_id,publisher_id,ts) VALUES (38da51a2-e630-11ef-abda-db7122a3fa92,1,53,'interview_scheduled',16,0,32,'2025-02-08 15:20:25')\n",
      "INSERT INTO Cassandra thành công! 4\n",
      " INSERT INTO tracking (create_time,bid,campaign_id,custom_track,group_id,job_id,publisher_id,ts) VALUES (38dcf0e2-e630-11ef-84e3-78d6238116b5,0,97,'conversion',13,1103,22,'2025-02-08 15:20:25')\n",
      "INSERT INTO Cassandra thành công! 5\n",
      " INSERT INTO tracking (create_time,bid,campaign_id,custom_track,group_id,job_id,publisher_id,ts) VALUES (38df24a2-e630-11ef-8177-e1443fac8a62,0,97,'alive',16,188,17,'2025-02-08 15:20:25')\n",
      "INSERT INTO Cassandra thành công! 6\n",
      " INSERT INTO tracking (create_time,bid,campaign_id,custom_track,group_id,job_id,publisher_id,ts) VALUES (38e16c94-e630-11ef-922b-e5af34ac1d4a,1,178,'alive',34,0,29,'2025-02-08 15:20:25')\n",
      "INSERT INTO Cassandra thành công! 7\n",
      " INSERT INTO tracking (create_time,bid,campaign_id,custom_track,group_id,job_id,publisher_id,ts) VALUES (38e3d06a-e630-11ef-8fd6-7173a01be9e7,0,122,'unqualified',14,0,20,'2025-02-08 15:20:25')\n",
      "INSERT INTO Cassandra thành công! 8\n",
      " INSERT INTO tracking (create_time,bid,campaign_id,custom_track,group_id,job_id,publisher_id,ts) VALUES (38e612ee-e630-11ef-9a57-b6002f794de4,0,93,'0',16,440,38,'2025-02-08 15:20:25')\n",
      "INSERT INTO Cassandra thành công! 9\n"
     ]
    }
   ],
   "source": [
    "records = int(input('Nhap so record fake: '))\n",
    "\n",
    "for i in range(records):\n",
    "    create_time = str(uuid_from_time(datetime.datetime.now()))\n",
    "    ts = datetime.datetime.now().strftime(\"%Y-%m-%d %H:%M:%S\")\n",
    "    job_id = random.choice(col_jobid) or 0 \n",
    "    custom_track = random.choice(col_customtrack) or 0 \n",
    "    bid = random.choice(col_bid) or 0 \n",
    "    campaign_id = random.choice(col_campaignid) or 0 \n",
    "    group_id = random.choice(col_groupid) or 0 \n",
    "    publisher_id = random.choice(col_publisherid) or 0 \n",
    "\n",
    "\n",
    "\n",
    "    sql = \"\"\" INSERT INTO tracking (create_time,bid,campaign_id,custom_track,group_id,job_id,publisher_id,ts) VALUES ({},{},{},'{}',{},{},{},'{}')\"\"\".format(create_time,bid,campaign_id,custom_track,group_id,job_id,publisher_id,ts)\n",
    "    print(sql)\n",
    "    session.execute(sql)\n",
    "    print(\"INSERT INTO Cassandra thành công!\", i)\n",
    "\n",
    "# Đóng kết nối\n",
    "cluster.shutdown()"
   ]
  }
 ],
 "metadata": {
  "kernelspec": {
   "display_name": "Python 3",
   "language": "python",
   "name": "python3"
  },
  "language_info": {
   "codemirror_mode": {
    "name": "ipython",
    "version": 3
   },
   "file_extension": ".py",
   "mimetype": "text/x-python",
   "name": "python",
   "nbconvert_exporter": "python",
   "pygments_lexer": "ipython3",
   "version": "3.11.9"
  }
 },
 "nbformat": 4,
 "nbformat_minor": 2
}
